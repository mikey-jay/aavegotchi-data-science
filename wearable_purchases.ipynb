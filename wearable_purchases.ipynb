{
 "cells": [
  {
   "cell_type": "code",
   "execution_count": 1,
   "metadata": {},
   "outputs": [],
   "source": [
    "from main import *\n",
    "USE_CACHE = True\n",
    "TIME_RANGE_DAYS = 365\n",
    "SECONDS_IN_A_DAY = 24 * 60 * 60\n",
    "TIME_RANGE_SECONDS = TIME_RANGE_DAYS * SECONDS_IN_A_DAY\n",
    "END_TIME = UPDATE_TIME\n",
    "START_TIME = END_TIME - TIME_RANGE_SECONDS\n",
    "QUERY_TIME_INTERVAL = 30 * SECONDS_IN_A_DAY # break up the query into 30 day chunks\n",
    "\n",
    "def get_time_intervals(start, end, step):\n",
    "    while start <= end:\n",
    "        yield start\n",
    "        start += step"
   ]
  },
  {
   "cell_type": "code",
   "execution_count": 5,
   "metadata": {},
   "outputs": [
    {
     "name": "stdout",
     "output_type": "stream",
     "text": [
      "1629209008 1631801008\n",
      "1631801008 1634393008\n",
      "1634393008 1636985008\n",
      "1636985008 1639577008\n",
      "1639577008 1642169008\n",
      "1642169008 1644761008\n",
      "1644761008 1647353008\n",
      "1647353008 1649945008\n",
      "1649945008 1652537008\n",
      "1652537008 1655129008\n",
      "1655129008 1657721008\n",
      "1657721008 1660313008\n",
      "1660313008 1660745008\n"
     ]
    }
   ],
   "source": [
    "purchases_result = []\n",
    "\n",
    "for interval_start in get_time_intervals(START_TIME, END_TIME, QUERY_TIME_INTERVAL):\n",
    "    interval_end = min(interval_start + QUERY_TIME_INTERVAL, END_TIME)\n",
    "    purchases_query = get_core_matic_query(\n",
    "        { 'erc1155Purchases': {\n",
    "            'params': { 'where': { 'category': ITEM_TYPE_CATEGORY_WEARABLE, 'timeLastPurchased_lt': interval_end, 'timeLastPurchased_gte': interval_start } },\n",
    "            'fields': [\"id\", \"listingID\", \"erc1155TypeId\", \"priceInWei\", \"quantity\", \"timeLastPurchased\"] }}\n",
    "    )\n",
    "    purchases_result += purchases_query.execute(USE_CACHE)\n",
    "\n",
    "purchases_df = get_subgraph_result_df(purchases_result)"
   ]
  },
  {
   "cell_type": "code",
   "execution_count": 3,
   "metadata": {},
   "outputs": [
    {
     "data": {
      "text/html": [
       "<div>\n",
       "<style scoped>\n",
       "    .dataframe tbody tr th:only-of-type {\n",
       "        vertical-align: middle;\n",
       "    }\n",
       "\n",
       "    .dataframe tbody tr th {\n",
       "        vertical-align: top;\n",
       "    }\n",
       "\n",
       "    .dataframe thead th {\n",
       "        text-align: right;\n",
       "    }\n",
       "</style>\n",
       "<table border=\"1\" class=\"dataframe\">\n",
       "  <thead>\n",
       "    <tr style=\"text-align: right;\">\n",
       "      <th></th>\n",
       "    </tr>\n",
       "  </thead>\n",
       "  <tbody>\n",
       "  </tbody>\n",
       "</table>\n",
       "</div>"
      ],
      "text/plain": [
       "Empty DataFrame\n",
       "Columns: []\n",
       "Index: []"
      ]
     },
     "execution_count": 3,
     "metadata": {},
     "output_type": "execute_result"
    }
   ],
   "source": [
    "purchases_df.head()"
   ]
  },
  {
   "cell_type": "code",
   "execution_count": 4,
   "metadata": {},
   "outputs": [
    {
     "ename": "ValueError",
     "evalue": "Cannot describe a DataFrame without columns",
     "output_type": "error",
     "traceback": [
      "\u001b[0;31m---------------------------------------------------------------------------\u001b[0m",
      "\u001b[0;31mValueError\u001b[0m                                Traceback (most recent call last)",
      "\u001b[1;32m/Users/michael/Documents/git/aavegotchi-data-science/wearable_purchases.ipynb Cell 4\u001b[0m in \u001b[0;36m<cell line: 1>\u001b[0;34m()\u001b[0m\n\u001b[0;32m----> <a href='vscode-notebook-cell:/Users/michael/Documents/git/aavegotchi-data-science/wearable_purchases.ipynb#W3sZmlsZQ%3D%3D?line=0'>1</a>\u001b[0m purchases_df\u001b[39m.\u001b[39;49mdescribe()\n",
      "File \u001b[0;32m~/opt/anaconda3/envs/aavegotchi-data-science/lib/python3.9/site-packages/pandas/core/generic.py:10227\u001b[0m, in \u001b[0;36mNDFrame.describe\u001b[0;34m(self, percentiles, include, exclude, datetime_is_numeric)\u001b[0m\n\u001b[1;32m   9978\u001b[0m \u001b[39m@final\u001b[39m\n\u001b[1;32m   9979\u001b[0m \u001b[39mdef\u001b[39;00m \u001b[39mdescribe\u001b[39m(\n\u001b[1;32m   9980\u001b[0m     \u001b[39mself\u001b[39m: NDFrameT,\n\u001b[0;32m   (...)\u001b[0m\n\u001b[1;32m   9984\u001b[0m     datetime_is_numeric\u001b[39m=\u001b[39m\u001b[39mFalse\u001b[39;00m,\n\u001b[1;32m   9985\u001b[0m ) \u001b[39m-\u001b[39m\u001b[39m>\u001b[39m NDFrameT:\n\u001b[1;32m   9986\u001b[0m     \u001b[39m\"\"\"\u001b[39;00m\n\u001b[1;32m   9987\u001b[0m \u001b[39m    Generate descriptive statistics.\u001b[39;00m\n\u001b[1;32m   9988\u001b[0m \n\u001b[0;32m   (...)\u001b[0m\n\u001b[1;32m  10225\u001b[0m \u001b[39m    max            NaN      3.0\u001b[39;00m\n\u001b[1;32m  10226\u001b[0m \u001b[39m    \"\"\"\u001b[39;00m\n\u001b[0;32m> 10227\u001b[0m     \u001b[39mreturn\u001b[39;00m describe_ndframe(\n\u001b[1;32m  10228\u001b[0m         obj\u001b[39m=\u001b[39;49m\u001b[39mself\u001b[39;49m,\n\u001b[1;32m  10229\u001b[0m         include\u001b[39m=\u001b[39;49minclude,\n\u001b[1;32m  10230\u001b[0m         exclude\u001b[39m=\u001b[39;49mexclude,\n\u001b[1;32m  10231\u001b[0m         datetime_is_numeric\u001b[39m=\u001b[39;49mdatetime_is_numeric,\n\u001b[1;32m  10232\u001b[0m         percentiles\u001b[39m=\u001b[39;49mpercentiles,\n\u001b[1;32m  10233\u001b[0m     )\n",
      "File \u001b[0;32m~/opt/anaconda3/envs/aavegotchi-data-science/lib/python3.9/site-packages/pandas/core/describe.py:87\u001b[0m, in \u001b[0;36mdescribe_ndframe\u001b[0;34m(obj, include, exclude, datetime_is_numeric, percentiles)\u001b[0m\n\u001b[1;32m     82\u001b[0m     describer \u001b[39m=\u001b[39m SeriesDescriber(\n\u001b[1;32m     83\u001b[0m         obj\u001b[39m=\u001b[39mcast(\u001b[39m\"\u001b[39m\u001b[39mSeries\u001b[39m\u001b[39m\"\u001b[39m, obj),\n\u001b[1;32m     84\u001b[0m         datetime_is_numeric\u001b[39m=\u001b[39mdatetime_is_numeric,\n\u001b[1;32m     85\u001b[0m     )\n\u001b[1;32m     86\u001b[0m \u001b[39melse\u001b[39;00m:\n\u001b[0;32m---> 87\u001b[0m     describer \u001b[39m=\u001b[39m DataFrameDescriber(\n\u001b[1;32m     88\u001b[0m         obj\u001b[39m=\u001b[39;49mcast(\u001b[39m\"\u001b[39;49m\u001b[39mDataFrame\u001b[39;49m\u001b[39m\"\u001b[39;49m, obj),\n\u001b[1;32m     89\u001b[0m         include\u001b[39m=\u001b[39;49minclude,\n\u001b[1;32m     90\u001b[0m         exclude\u001b[39m=\u001b[39;49mexclude,\n\u001b[1;32m     91\u001b[0m         datetime_is_numeric\u001b[39m=\u001b[39;49mdatetime_is_numeric,\n\u001b[1;32m     92\u001b[0m     )\n\u001b[1;32m     94\u001b[0m result \u001b[39m=\u001b[39m describer\u001b[39m.\u001b[39mdescribe(percentiles\u001b[39m=\u001b[39mpercentiles)\n\u001b[1;32m     95\u001b[0m \u001b[39mreturn\u001b[39;00m cast(NDFrameT, result)\n",
      "File \u001b[0;32m~/opt/anaconda3/envs/aavegotchi-data-science/lib/python3.9/site-packages/pandas/core/describe.py:164\u001b[0m, in \u001b[0;36mDataFrameDescriber.__init__\u001b[0;34m(self, obj, include, exclude, datetime_is_numeric)\u001b[0m\n\u001b[1;32m    161\u001b[0m \u001b[39mself\u001b[39m\u001b[39m.\u001b[39mexclude \u001b[39m=\u001b[39m exclude\n\u001b[1;32m    163\u001b[0m \u001b[39mif\u001b[39;00m obj\u001b[39m.\u001b[39mndim \u001b[39m==\u001b[39m \u001b[39m2\u001b[39m \u001b[39mand\u001b[39;00m obj\u001b[39m.\u001b[39mcolumns\u001b[39m.\u001b[39msize \u001b[39m==\u001b[39m \u001b[39m0\u001b[39m:\n\u001b[0;32m--> 164\u001b[0m     \u001b[39mraise\u001b[39;00m \u001b[39mValueError\u001b[39;00m(\u001b[39m\"\u001b[39m\u001b[39mCannot describe a DataFrame without columns\u001b[39m\u001b[39m\"\u001b[39m)\n\u001b[1;32m    166\u001b[0m \u001b[39msuper\u001b[39m()\u001b[39m.\u001b[39m\u001b[39m__init__\u001b[39m(obj, datetime_is_numeric\u001b[39m=\u001b[39mdatetime_is_numeric)\n",
      "\u001b[0;31mValueError\u001b[0m: Cannot describe a DataFrame without columns"
     ]
    }
   ],
   "source": [
    "purchases_df.describe()"
   ]
  },
  {
   "cell_type": "code",
   "execution_count": null,
   "metadata": {},
   "outputs": [
    {
     "name": "stdout",
     "output_type": "stream",
     "text": [
      "<class 'pandas.core.frame.DataFrame'>\n",
      "Index: 31642 entries, 100298_0xb049df3c39b9726817c23efb6d58b75b83a19389_1629665226 to 9929_0xcbf7d1c2012629e4689f6c2ca10c4e3a7ce1a75c_1632996220\n",
      "Data columns (total 4 columns):\n",
      " #   Column         Non-Null Count  Dtype \n",
      "---  ------         --------------  ----- \n",
      " 0   listingID      31642 non-null  object\n",
      " 1   erc1155TypeId  31642 non-null  object\n",
      " 2   priceInWei     31642 non-null  object\n",
      " 3   quantity       31642 non-null  object\n",
      "dtypes: object(4)\n",
      "memory usage: 1.2+ MB\n"
     ]
    }
   ],
   "source": [
    "purchases_df.info()"
   ]
  }
 ],
 "metadata": {
  "kernelspec": {
   "display_name": "Python 3.9.13 ('aavegotchi-data-science')",
   "language": "python",
   "name": "python3"
  },
  "language_info": {
   "codemirror_mode": {
    "name": "ipython",
    "version": 3
   },
   "file_extension": ".py",
   "mimetype": "text/x-python",
   "name": "python",
   "nbconvert_exporter": "python",
   "pygments_lexer": "ipython3",
   "version": "3.9.13"
  },
  "orig_nbformat": 4,
  "vscode": {
   "interpreter": {
    "hash": "ae5a5ab5ac49724ba5fae9eff3080cbf7ba5c647491631efe9a847132401b70c"
   }
  }
 },
 "nbformat": 4,
 "nbformat_minor": 2
}
