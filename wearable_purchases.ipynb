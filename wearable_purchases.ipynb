{
 "cells": [
  {
   "cell_type": "code",
   "execution_count": 6,
   "metadata": {},
   "outputs": [],
   "source": [
    "from main import *\n",
    "USE_CACHE = True\n",
    "TIME_RANGE_DAYS = 365\n",
    "SECONDS_IN_A_DAY = 24 * 60 * 60\n",
    "TIME_RANGE_SECONDS = TIME_RANGE_DAYS * SECONDS_IN_A_DAY\n",
    "END_TIME = UPDATE_TIME\n",
    "START_TIME = END_TIME - TIME_RANGE_SECONDS\n",
    "QUERY_TIME_INTERVAL = 30 * SECONDS_IN_A_DAY # break up the query into 30 day chunks\n",
    "\n",
    "def get_time_intervals(start, end, step):\n",
    "    while start <= end:\n",
    "        yield start\n",
    "        start += step"
   ]
  },
  {
   "cell_type": "code",
   "execution_count": 7,
   "metadata": {},
   "outputs": [],
   "source": [
    "purchases_result = []\n",
    "\n",
    "for interval_start in get_time_intervals(START_TIME, END_TIME, QUERY_TIME_INTERVAL):\n",
    "    interval_end = min(interval_start + QUERY_TIME_INTERVAL, END_TIME)\n",
    "    purchases_query = get_core_matic_query(\n",
    "        { 'erc1155Purchases': {\n",
    "            'params': { 'where': { 'category': ITEM_TYPE_CATEGORY_WEARABLE, 'timeLastPurchased_lt': interval_end, 'timeLastPurchased_gte': interval_start } },\n",
    "            'fields': [\"id\", \"listingID\", \"erc1155TypeId\", \"priceInWei\", \"quantity\", \"timeLastPurchased\"] }}\n",
    "    )\n",
    "    purchases_result += purchases_query.execute(USE_CACHE)\n",
    "\n",
    "purchases_df = get_subgraph_result_df(purchases_result)"
   ]
  },
  {
   "cell_type": "code",
   "execution_count": 8,
   "metadata": {},
   "outputs": [
    {
     "data": {
      "text/html": [
       "<div>\n",
       "<style scoped>\n",
       "    .dataframe tbody tr th:only-of-type {\n",
       "        vertical-align: middle;\n",
       "    }\n",
       "\n",
       "    .dataframe tbody tr th {\n",
       "        vertical-align: top;\n",
       "    }\n",
       "\n",
       "    .dataframe thead th {\n",
       "        text-align: right;\n",
       "    }\n",
       "</style>\n",
       "<table border=\"1\" class=\"dataframe\">\n",
       "  <thead>\n",
       "    <tr style=\"text-align: right;\">\n",
       "      <th></th>\n",
       "      <th>listingID</th>\n",
       "      <th>erc1155TypeId</th>\n",
       "      <th>priceInWei</th>\n",
       "      <th>quantity</th>\n",
       "      <th>timeLastPurchased</th>\n",
       "    </tr>\n",
       "    <tr>\n",
       "      <th>id</th>\n",
       "      <th></th>\n",
       "      <th></th>\n",
       "      <th></th>\n",
       "      <th></th>\n",
       "      <th></th>\n",
       "    </tr>\n",
       "  </thead>\n",
       "  <tbody>\n",
       "    <tr>\n",
       "      <th>100298_0xb049df3c39b9726817c23efb6d58b75b83a19389_1629665226</th>\n",
       "      <td>100298</td>\n",
       "      <td>111</td>\n",
       "      <td>549000000000000000000</td>\n",
       "      <td>1</td>\n",
       "      <td>1629665226</td>\n",
       "    </tr>\n",
       "    <tr>\n",
       "      <th>100298_0xb049df3c39b9726817c23efb6d58b75b83a19389_1629665294</th>\n",
       "      <td>100298</td>\n",
       "      <td>111</td>\n",
       "      <td>549000000000000000000</td>\n",
       "      <td>1</td>\n",
       "      <td>1629665294</td>\n",
       "    </tr>\n",
       "    <tr>\n",
       "      <th>100298_0xc99df6b7a5130dce61ba98614a2457daa8d92d1c_1629741236</th>\n",
       "      <td>100298</td>\n",
       "      <td>111</td>\n",
       "      <td>549000000000000000000</td>\n",
       "      <td>1</td>\n",
       "      <td>1629741236</td>\n",
       "    </tr>\n",
       "    <tr>\n",
       "      <th>100298_0xea651e5b72751f1d2e36255f5f59792c84cd856f_1629601240</th>\n",
       "      <td>100298</td>\n",
       "      <td>111</td>\n",
       "      <td>549000000000000000000</td>\n",
       "      <td>1</td>\n",
       "      <td>1629601240</td>\n",
       "    </tr>\n",
       "    <tr>\n",
       "      <th>100299_0xb049df3c39b9726817c23efb6d58b75b83a19389_1629665456</th>\n",
       "      <td>100299</td>\n",
       "      <td>112</td>\n",
       "      <td>555000000000000000000</td>\n",
       "      <td>1</td>\n",
       "      <td>1629665456</td>\n",
       "    </tr>\n",
       "  </tbody>\n",
       "</table>\n",
       "</div>"
      ],
      "text/plain": [
       "                                                   listingID erc1155TypeId  \\\n",
       "id                                                                           \n",
       "100298_0xb049df3c39b9726817c23efb6d58b75b83a193...    100298           111   \n",
       "100298_0xb049df3c39b9726817c23efb6d58b75b83a193...    100298           111   \n",
       "100298_0xc99df6b7a5130dce61ba98614a2457daa8d92d...    100298           111   \n",
       "100298_0xea651e5b72751f1d2e36255f5f59792c84cd85...    100298           111   \n",
       "100299_0xb049df3c39b9726817c23efb6d58b75b83a193...    100299           112   \n",
       "\n",
       "                                                               priceInWei  \\\n",
       "id                                                                          \n",
       "100298_0xb049df3c39b9726817c23efb6d58b75b83a193...  549000000000000000000   \n",
       "100298_0xb049df3c39b9726817c23efb6d58b75b83a193...  549000000000000000000   \n",
       "100298_0xc99df6b7a5130dce61ba98614a2457daa8d92d...  549000000000000000000   \n",
       "100298_0xea651e5b72751f1d2e36255f5f59792c84cd85...  549000000000000000000   \n",
       "100299_0xb049df3c39b9726817c23efb6d58b75b83a193...  555000000000000000000   \n",
       "\n",
       "                                                   quantity timeLastPurchased  \n",
       "id                                                                             \n",
       "100298_0xb049df3c39b9726817c23efb6d58b75b83a193...        1        1629665226  \n",
       "100298_0xb049df3c39b9726817c23efb6d58b75b83a193...        1        1629665294  \n",
       "100298_0xc99df6b7a5130dce61ba98614a2457daa8d92d...        1        1629741236  \n",
       "100298_0xea651e5b72751f1d2e36255f5f59792c84cd85...        1        1629601240  \n",
       "100299_0xb049df3c39b9726817c23efb6d58b75b83a193...        1        1629665456  "
      ]
     },
     "execution_count": 8,
     "metadata": {},
     "output_type": "execute_result"
    }
   ],
   "source": [
    "purchases_df.head()"
   ]
  },
  {
   "cell_type": "code",
   "execution_count": 9,
   "metadata": {},
   "outputs": [
    {
     "data": {
      "text/html": [
       "<div>\n",
       "<style scoped>\n",
       "    .dataframe tbody tr th:only-of-type {\n",
       "        vertical-align: middle;\n",
       "    }\n",
       "\n",
       "    .dataframe tbody tr th {\n",
       "        vertical-align: top;\n",
       "    }\n",
       "\n",
       "    .dataframe thead th {\n",
       "        text-align: right;\n",
       "    }\n",
       "</style>\n",
       "<table border=\"1\" class=\"dataframe\">\n",
       "  <thead>\n",
       "    <tr style=\"text-align: right;\">\n",
       "      <th></th>\n",
       "      <th>listingID</th>\n",
       "      <th>erc1155TypeId</th>\n",
       "      <th>priceInWei</th>\n",
       "      <th>quantity</th>\n",
       "      <th>timeLastPurchased</th>\n",
       "    </tr>\n",
       "  </thead>\n",
       "  <tbody>\n",
       "    <tr>\n",
       "      <th>count</th>\n",
       "      <td>31642</td>\n",
       "      <td>31642</td>\n",
       "      <td>31642</td>\n",
       "      <td>31642</td>\n",
       "      <td>31642</td>\n",
       "    </tr>\n",
       "    <tr>\n",
       "      <th>unique</th>\n",
       "      <td>27340</td>\n",
       "      <td>237</td>\n",
       "      <td>2927</td>\n",
       "      <td>46</td>\n",
       "      <td>31111</td>\n",
       "    </tr>\n",
       "    <tr>\n",
       "      <th>top</th>\n",
       "      <td>316041</td>\n",
       "      <td>230</td>\n",
       "      <td>20000000000000000000</td>\n",
       "      <td>1</td>\n",
       "      <td>1635237772</td>\n",
       "    </tr>\n",
       "    <tr>\n",
       "      <th>freq</th>\n",
       "      <td>45</td>\n",
       "      <td>736</td>\n",
       "      <td>673</td>\n",
       "      <td>29745</td>\n",
       "      <td>8</td>\n",
       "    </tr>\n",
       "  </tbody>\n",
       "</table>\n",
       "</div>"
      ],
      "text/plain": [
       "       listingID erc1155TypeId            priceInWei quantity  \\\n",
       "count      31642         31642                 31642    31642   \n",
       "unique     27340           237                  2927       46   \n",
       "top       316041           230  20000000000000000000        1   \n",
       "freq          45           736                   673    29745   \n",
       "\n",
       "       timeLastPurchased  \n",
       "count              31642  \n",
       "unique             31111  \n",
       "top           1635237772  \n",
       "freq                   8  "
      ]
     },
     "execution_count": 9,
     "metadata": {},
     "output_type": "execute_result"
    }
   ],
   "source": [
    "purchases_df.describe()"
   ]
  },
  {
   "cell_type": "code",
   "execution_count": 10,
   "metadata": {},
   "outputs": [
    {
     "name": "stdout",
     "output_type": "stream",
     "text": [
      "<class 'pandas.core.frame.DataFrame'>\n",
      "Index: 31642 entries, 100298_0xb049df3c39b9726817c23efb6d58b75b83a19389_1629665226 to 325795_0xf09d1acbf092ec47970a2aa9e16bc658b2ecf15e_1660709375\n",
      "Data columns (total 5 columns):\n",
      " #   Column             Non-Null Count  Dtype \n",
      "---  ------             --------------  ----- \n",
      " 0   listingID          31642 non-null  object\n",
      " 1   erc1155TypeId      31642 non-null  object\n",
      " 2   priceInWei         31642 non-null  object\n",
      " 3   quantity           31642 non-null  object\n",
      " 4   timeLastPurchased  31642 non-null  object\n",
      "dtypes: object(5)\n",
      "memory usage: 1.4+ MB\n"
     ]
    }
   ],
   "source": [
    "purchases_df.info()"
   ]
  }
 ],
 "metadata": {
  "kernelspec": {
   "display_name": "Python 3.9.13 ('aavegotchi-data-science')",
   "language": "python",
   "name": "python3"
  },
  "language_info": {
   "codemirror_mode": {
    "name": "ipython",
    "version": 3
   },
   "file_extension": ".py",
   "mimetype": "text/x-python",
   "name": "python",
   "nbconvert_exporter": "python",
   "pygments_lexer": "ipython3",
   "version": "3.9.13"
  },
  "orig_nbformat": 4,
  "vscode": {
   "interpreter": {
    "hash": "ae5a5ab5ac49724ba5fae9eff3080cbf7ba5c647491631efe9a847132401b70c"
   }
  }
 },
 "nbformat": 4,
 "nbformat_minor": 2
}
